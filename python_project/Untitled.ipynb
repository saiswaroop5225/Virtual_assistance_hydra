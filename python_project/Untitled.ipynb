{
 "cells": [
  {
   "cell_type": "code",
   "execution_count": 1,
   "metadata": {},
   "outputs": [],
   "source": [
    "import speech_recognition as sr\n",
    "from time import ctime\n",
    "import webbrowser\n",
    "import time\n",
    "import playsound\n",
    "import os\n",
    "import random\n",
    "from gtts import gTTS"
   ]
  },
  {
   "cell_type": "code",
   "execution_count": 2,
   "metadata": {},
   "outputs": [],
   "source": [
    "r=sr.Recognizer()"
   ]
  },
  {
   "cell_type": "code",
   "execution_count": null,
   "metadata": {},
   "outputs": [
    {
     "name": "stdout",
     "output_type": "stream",
     "text": [
      "Hi! Im hydra, your virtual assistance\n",
      "How Can I help You?\n",
      "Fri Mar  5 14:33:11 2021\n",
      "what do you want to search for?\n",
      "Here is what I found for Facebook\n",
      "Ok,bye!\n"
     ]
    }
   ],
   "source": [
    "def record_audio(ask=False):\n",
    "    with sr.Microphone() as source:\n",
    "        if ask:\n",
    "            hydra_speak(ask)\n",
    "        audio=r.listen(source)\n",
    "        voice_data = ''\n",
    "        try:\n",
    "            voice_data = r.recognize_google(audio)\n",
    "        except sr.UnknownValueError:\n",
    "            hydra_speak('sorry,I did not get That')\n",
    "        except sr.RequestError:\n",
    "            hydra_speak('Sorry, My speech Service is down')\n",
    "        return voice_data\n",
    "def hydra_speak(audio_string):\n",
    "    tts = gTTS(text=audio_string,lang='en')\n",
    "    r = random.randint(1,10000000)\n",
    "    audio_file = 'audio-'+str(r)+'.mp3'\n",
    "    tts.save(audio_file)\n",
    "    playsound.playsound(audio_file)\n",
    "    print(audio_string)\n",
    "    os.remove(audio_file)\n",
    "\n",
    "def respond(voice_data):\n",
    "    if 'what is your name'in voice_data:\n",
    "        hydra_speak('My name is Hydra')\n",
    "    if 'how are you'in voice_data:\n",
    "        hydra_speak('Im great!, What about you ')\n",
    "    if 'what is your age'in voice_data:\n",
    "        hydra_speak('My age is 1 day Old')\n",
    "    if 'where are you from'in voice_data:\n",
    "        hydra_speak('Im from Swaroop Workspace')\n",
    "    if 'who created you'in voice_data:\n",
    "        hydra_speak('Swaroop Created me.')\n",
    "    if 'what time is it'in voice_data:\n",
    "        hydra_speak(ctime())\n",
    "    if 'what is your age'in voice_data:\n",
    "        hydra_speak('My age is 1 day Old')\n",
    "    if 'search' in voice_data:\n",
    "        search = record_audio('what do you want to search for?')\n",
    "        url = 'https://google.com/search?q=' + search\n",
    "        webbrowser.get().open(url)\n",
    "        hydra_speak('Here is what I found for ' + search)\n",
    "    if 'find location' in voice_data:\n",
    "        location = record_audio('what location you are searching for?')\n",
    "        url = 'https://google.nl/maps/place/' + location +'/&amp;'\n",
    "        webbrowser.get().open(url)\n",
    "        hydra_speak('Here is what I found for ' + location)\n",
    "    if 'exit' in voice_data:\n",
    "        hydra_speak(\"Ok,bye!\")\n",
    "        exit()\n",
    "time.sleep(1)\n",
    "hydra_speak(\"Hi! Im hydra, your virtual assistance\")\n",
    "hydra_speak('How Can I help You?')\n",
    "while 1:\n",
    "    voice_data =record_audio()\n",
    "    respond(voice_data)"
   ]
  },
  {
   "cell_type": "code",
   "execution_count": null,
   "metadata": {},
   "outputs": [],
   "source": []
  },
  {
   "cell_type": "code",
   "execution_count": null,
   "metadata": {},
   "outputs": [],
   "source": []
  }
 ],
 "metadata": {
  "kernelspec": {
   "display_name": "Python 3",
   "language": "python",
   "name": "python3"
  },
  "language_info": {
   "codemirror_mode": {
    "name": "ipython",
    "version": 3
   },
   "file_extension": ".py",
   "mimetype": "text/x-python",
   "name": "python",
   "nbconvert_exporter": "python",
   "pygments_lexer": "ipython3",
   "version": "3.7.6"
  }
 },
 "nbformat": 4,
 "nbformat_minor": 4
}
